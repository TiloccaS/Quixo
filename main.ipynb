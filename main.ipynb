{
 "cells": [
  {
   "cell_type": "code",
   "execution_count": 1,
   "metadata": {},
   "outputs": [
    {
     "name": "stdout",
     "output_type": "stream",
     "text": [
      "40856\n"
     ]
    }
   ],
   "source": [
    "import random\n",
    "import dill\n",
    "from game import Game, Move, Player\n",
    "from strategies.rl import Q_learing, CustomState,  get_coordinates\n",
    "\n",
    "class RandomPlayer(Player):\n",
    "    def __init__(self) -> None:\n",
    "        super().__init__()\n",
    "\n",
    "    def make_move(self, game: 'Game') -> tuple[tuple[int, int], Move]:\n",
    "        from_pos = (random.randint(0, 4), random.randint(0, 4))\n",
    "        move = random.choice([Move.TOP, Move.BOTTOM, Move.LEFT, Move.RIGHT])\n",
    "        return from_pos, move\n",
    "\n",
    "\n",
    "class MyPlayer(Player):\n",
    "    def __init__(self) -> None:\n",
    "        super().__init__()\n",
    "\n",
    "    def make_move(self, game: 'Game') -> tuple[tuple[int, int], Move]:\n",
    "        from_pos = (random.randint(0, 4), random.randint(0, 4))\n",
    "        move = random.choice([Move.TOP, Move.BOTTOM, Move.LEFT, Move.RIGHT])\n",
    "        return from_pos, move\n",
    "    \n",
    "class RLPlayer(Player):\n",
    "    def __init__(self, learning_rate=0.1, discount_factor=0.7, pretrain_path=None, save_model_path=None, max_steps=None, train=False) -> None:\n",
    "        super().__init__()\n",
    "        if train:\n",
    "            ql = Q_learing(learning_rate, discount_factor, pretrain_path=pretrain_path, max_steps=max_steps)\n",
    "            steps, self.value_dictionary = ql.train()\n",
    "\n",
    "            if save_model_path is not None:\n",
    "                d = {'steps': steps, 'value_dictionary': self.value_dictionary}\n",
    "\n",
    "                with open(save_model_path, 'wb') as outfile:\n",
    "                    dill.dump(d, outfile)\n",
    "        elif not train and pretrain_path is not None:\n",
    "            with open(pretrain_path, 'rb') as f:\n",
    "                d = dill.load(f)\n",
    "\n",
    "            self.value_dictionary = d['value_dictionary']\n",
    "            print(len(self.value_dictionary))\n",
    "        \n",
    "    def make_move(self, game: Game) -> tuple[tuple[int, int], Move]:\n",
    "        current_state = CustomState(get_coordinates(game.get_board()))\n",
    "\n",
    "        if current_state in self.value_dictionary:\n",
    "            list_action = sorted(self.value_dictionary[current_state], key=self.value_dictionary[current_state].get)\n",
    "\n",
    "            action = list_action[0].split('-')\n",
    "            from_pos = tuple((int(c) for c in action[0] if c.isdigit()))\n",
    "\n",
    "            if action[1] == 'Move.LEFT':\n",
    "                move = Move.LEFT\n",
    "            elif action[1] == 'Move.RIGHT':\n",
    "                move = Move.RIGHT\n",
    "            elif action[1] == 'Move.TOP':\n",
    "                move = Move.TOP\n",
    "            else:\n",
    "                move = Move.BOTTOM\n",
    "        else:\n",
    "            ## Random play\n",
    "            from_pos = (random.randint(0, 4), random.randint(0, 4))\n",
    "            move = random.choice([Move.TOP, Move.BOTTOM, Move.LEFT, Move.RIGHT])\n",
    "            \n",
    "        return from_pos, move\n",
    "    \n",
    "g = Game()\n",
    "\n",
    "player1 = RLPlayer(pretrain_path='train_results/rl.pik')\n",
    "player2 = RandomPlayer()"
   ]
  },
  {
   "cell_type": "code",
   "execution_count": null,
   "metadata": {},
   "outputs": [],
   "source": [
    "import dill\n",
    "from strategies.rl import CustomState, print_dictionary\n",
    "\n",
    "with open('train_results/rl.pik', 'rb') as f:\n",
    "    my_dict = dill.load(f)\n",
    "\n",
    "print(my_dict)\n",
    "print(my_dict['steps'])\n",
    "print_dictionary(my_dict['value_dictionary'])\n",
    "print(len(my_dict['value_dictionary']))"
   ]
  },
  {
   "cell_type": "code",
   "execution_count": 2,
   "metadata": {},
   "outputs": [
    {
     "name": "stdout",
     "output_type": "stream",
     "text": [
      "[[-1 -1 -1 -1 -1]\n",
      " [-1 -1 -1 -1 -1]\n",
      " [-1 -1 -1 -1 -1]\n",
      " [-1 -1 -1 -1 -1]\n",
      " [-1 -1 -1 -1 -1]]\n",
      "[[ 1 -1  1  1  0]\n",
      " [ 0  1  1 -1  0]\n",
      " [ 0  0 -1  0  0]\n",
      " [ 1 -1 -1  1  0]\n",
      " [ 0 -1  1  0  0]]\n",
      "Winner: Player 0\n"
     ]
    }
   ],
   "source": [
    "g.print()\n",
    "winner = g.play(player1, player2)\n",
    "g.print()\n",
    "print(f\"Winner: Player {winner}\")"
   ]
  },
  {
   "cell_type": "code",
   "execution_count": 3,
   "metadata": {},
   "outputs": [
    {
     "data": {
      "application/vnd.jupyter.widget-view+json": {
       "model_id": "eab0125b550d4d6f959d634c6af7c9a2",
       "version_major": 2,
       "version_minor": 0
      },
      "text/plain": [
       "  0%|          | 0/100 [00:00<?, ?it/s]"
      ]
     },
     "metadata": {},
     "output_type": "display_data"
    },
    {
     "name": "stdout",
     "output_type": "stream",
     "text": [
      "Unexpected exception formatting exception. Falling back to standard exception\n"
     ]
    },
    {
     "name": "stderr",
     "output_type": "stream",
     "text": [
      "Traceback (most recent call last):\n",
      "  File \"c:\\Users\\daxna\\PoliTO\\ci2023\\Quixo\\.venv\\Lib\\site-packages\\IPython\\core\\interactiveshell.py\", line 3553, in run_code\n",
      "    exec(code_obj, self.user_global_ns, self.user_ns)\n",
      "  File \"C:\\Users\\daxna\\AppData\\Local\\Temp\\ipykernel_11100\\3626827744.py\", line 7, in <module>\n",
      "    winner = g.play(player1, player2)\n",
      "             ^^^^^^^^^^^^^^^^^^^^^^^^\n",
      "  File \"c:\\Users\\daxna\\PoliTO\\ci2023\\Quixo\\game.py\", line 96, in play\n",
      "    from_pos, slide = players[self.current_player_idx].make_move(\n",
      "                      ^^^^^^^^^^^^^^^^^^^^^^^^^^^^^^^^^^^^^^^^^^^\n",
      "  File \"C:\\Users\\daxna\\AppData\\Local\\Temp\\ipykernel_11100\\1176331570.py\", line 48, in make_move\n",
      "    list_action = sorted(self.value_dictionary[current_state], key=self.value_dictionary[current_state].get)\n",
      "                                                                   ~~~~~~~~~~~~~~~~~~~~~^^^^^^^^^^^^^^^\n",
      "  File \"c:\\Users\\daxna\\PoliTO\\ci2023\\Quixo\\strategies\\rl.py\", line 68, in __eq__\n",
      "    current_state = self.get_equivalent()\n",
      "                    ^^^^^^^^^^^^^^^^^^^^^\n",
      "  File \"c:\\Users\\daxna\\PoliTO\\ci2023\\Quixo\\strategies\\rl.py\", line 83, in get_equivalent\n",
      "    tmp_x = get_coordinates_from_board_positions(Board.BOARD, tmp_x)\n",
      "            ^^^^^^^^^^^^^^^^^^^^^^^^^^^^^^^^^^^^^^^^^^^^^^^^^^^^^^^^\n",
      "  File \"c:\\Users\\daxna\\PoliTO\\ci2023\\Quixo\\strategies\\rl.py\", line -1, in get_coordinates_from_board_positions\n",
      "KeyboardInterrupt\n",
      "\n",
      "During handling of the above exception, another exception occurred:\n",
      "\n",
      "Traceback (most recent call last):\n",
      "  File \"c:\\Users\\daxna\\PoliTO\\ci2023\\Quixo\\.venv\\Lib\\site-packages\\IPython\\core\\interactiveshell.py\", line 2144, in showtraceback\n",
      "    stb = self.InteractiveTB.structured_traceback(\n",
      "          ^^^^^^^^^^^^^^^^^^^^^^^^^^^^^^^^^^^^^^^^\n",
      "  File \"c:\\Users\\daxna\\PoliTO\\ci2023\\Quixo\\.venv\\Lib\\site-packages\\IPython\\core\\ultratb.py\", line 1435, in structured_traceback\n",
      "    return FormattedTB.structured_traceback(\n",
      "           ^^^^^^^^^^^^^^^^^^^^^^^^^^^^^^^^^\n",
      "  File \"c:\\Users\\daxna\\PoliTO\\ci2023\\Quixo\\.venv\\Lib\\site-packages\\IPython\\core\\ultratb.py\", line 1326, in structured_traceback\n",
      "    return VerboseTB.structured_traceback(\n",
      "           ^^^^^^^^^^^^^^^^^^^^^^^^^^^^^^^\n",
      "  File \"c:\\Users\\daxna\\PoliTO\\ci2023\\Quixo\\.venv\\Lib\\site-packages\\IPython\\core\\ultratb.py\", line 1173, in structured_traceback\n",
      "    formatted_exception = self.format_exception_as_a_whole(etype, evalue, etb, number_of_lines_of_context,\n",
      "                          ^^^^^^^^^^^^^^^^^^^^^^^^^^^^^^^^^^^^^^^^^^^^^^^^^^^^^^^^^^^^^^^^^^^^^^^^^^^^^^^^\n",
      "  File \"c:\\Users\\daxna\\PoliTO\\ci2023\\Quixo\\.venv\\Lib\\site-packages\\IPython\\core\\ultratb.py\", line 1088, in format_exception_as_a_whole\n",
      "    frames.append(self.format_record(record))\n",
      "                  ^^^^^^^^^^^^^^^^^^^^^^^^^^\n",
      "  File \"c:\\Users\\daxna\\PoliTO\\ci2023\\Quixo\\.venv\\Lib\\site-packages\\IPython\\core\\ultratb.py\", line 970, in format_record\n",
      "    frame_info.lines, Colors, self.has_colors, lvals\n",
      "    ^^^^^^^^^^^^^^^^\n",
      "  File \"c:\\Users\\daxna\\PoliTO\\ci2023\\Quixo\\.venv\\Lib\\site-packages\\IPython\\core\\ultratb.py\", line 792, in lines\n",
      "    return self._sd.lines\n",
      "           ^^^^^^^^^^^^^^\n",
      "  File \"c:\\Users\\daxna\\PoliTO\\ci2023\\Quixo\\.venv\\Lib\\site-packages\\stack_data\\utils.py\", line 145, in cached_property_wrapper\n",
      "    value = obj.__dict__[self.func.__name__] = self.func(obj)\n",
      "                                               ^^^^^^^^^^^^^^\n",
      "  File \"c:\\Users\\daxna\\PoliTO\\ci2023\\Quixo\\.venv\\Lib\\site-packages\\stack_data\\core.py\", line 734, in lines\n",
      "    pieces = self.included_pieces\n",
      "             ^^^^^^^^^^^^^^^^^^^^\n",
      "  File \"c:\\Users\\daxna\\PoliTO\\ci2023\\Quixo\\.venv\\Lib\\site-packages\\stack_data\\utils.py\", line 145, in cached_property_wrapper\n",
      "    value = obj.__dict__[self.func.__name__] = self.func(obj)\n",
      "                                               ^^^^^^^^^^^^^^\n",
      "  File \"c:\\Users\\daxna\\PoliTO\\ci2023\\Quixo\\.venv\\Lib\\site-packages\\stack_data\\core.py\", line 681, in included_pieces\n",
      "    pos = scope_pieces.index(self.executing_piece)\n",
      "                             ^^^^^^^^^^^^^^^^^^^^\n",
      "  File \"c:\\Users\\daxna\\PoliTO\\ci2023\\Quixo\\.venv\\Lib\\site-packages\\stack_data\\utils.py\", line 145, in cached_property_wrapper\n",
      "    value = obj.__dict__[self.func.__name__] = self.func(obj)\n",
      "                                               ^^^^^^^^^^^^^^\n",
      "  File \"c:\\Users\\daxna\\PoliTO\\ci2023\\Quixo\\.venv\\Lib\\site-packages\\stack_data\\core.py\", line 660, in executing_piece\n",
      "    return only(\n",
      "           ^^^^^\n",
      "  File \"c:\\Users\\daxna\\PoliTO\\ci2023\\Quixo\\.venv\\Lib\\site-packages\\executing\\executing.py\", line 116, in only\n",
      "    raise NotOneValueFound('Expected one value, found 0')\n",
      "executing.executing.NotOneValueFound: Expected one value, found 0\n"
     ]
    }
   ],
   "source": [
    "from tqdm.auto import tqdm\n",
    "win = 0\n",
    "lose = 0\n",
    "draw = 0\n",
    "for _ in tqdm(range(100)):\n",
    "    g = Game()\n",
    "    winner = g.play(player1, player2)\n",
    "    if winner == 0:\n",
    "        win += 1\n",
    "    elif winner == 1:\n",
    "        lose += 1\n",
    "    else:\n",
    "        draw += 1\n",
    "\n",
    "print(win)\n",
    "print(lose)\n",
    "print(draw)"
   ]
  }
 ],
 "metadata": {
  "kernelspec": {
   "display_name": "Python 3 (ipykernel)",
   "language": "python",
   "name": "python3"
  },
  "language_info": {
   "codemirror_mode": {
    "name": "ipython",
    "version": 3
   },
   "file_extension": ".py",
   "mimetype": "text/x-python",
   "name": "python",
   "nbconvert_exporter": "python",
   "pygments_lexer": "ipython3",
   "version": "3.11.6"
  }
 },
 "nbformat": 4,
 "nbformat_minor": 2
}

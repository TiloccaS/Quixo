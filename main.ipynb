{
 "cells": [
  {
   "cell_type": "code",
   "execution_count": null,
   "metadata": {},
   "outputs": [],
   "source": [
    "import random\n",
    "import dill\n",
    "from game import Game, Move, Player\n",
    "from strategies.rl import Q_learing, CustomState,  get_coordinates\n",
    "\n",
    "class RandomPlayer(Player):\n",
    "    def __init__(self) -> None:\n",
    "        super().__init__()\n",
    "\n",
    "    def make_move(self, game: 'Game') -> tuple[tuple[int, int], Move]:\n",
    "        from_pos = (random.randint(0, 4), random.randint(0, 4))\n",
    "        move = random.choice([Move.TOP, Move.BOTTOM, Move.LEFT, Move.RIGHT])\n",
    "        return from_pos, move\n",
    "\n",
    "\n",
    "class MyPlayer(Player):\n",
    "    def __init__(self) -> None:\n",
    "        super().__init__()\n",
    "\n",
    "    def make_move(self, game: 'Game') -> tuple[tuple[int, int], Move]:\n",
    "        from_pos = (random.randint(0, 4), random.randint(0, 4))\n",
    "        move = random.choice([Move.TOP, Move.BOTTOM, Move.LEFT, Move.RIGHT])\n",
    "        return from_pos, move\n",
    "    \n",
    "class RLPlayer(Player):\n",
    "    def __init__(self, learning_rate=0.1, discount_factor=0.7, pretrain_path=None, save_model_path=None, max_steps=None, train=False) -> None:\n",
    "        super().__init__()\n",
    "        if train:\n",
    "            ql = Q_learing(learning_rate, discount_factor, pretrain_path=pretrain_path, max_steps=max_steps)\n",
    "            steps, self.value_dictionary = ql.train()\n",
    "\n",
    "            if save_model_path is not None:\n",
    "                d = {'steps': steps, 'value_dictionary': self.value_dictionary}\n",
    "\n",
    "                with open(save_model_path, 'wb') as outfile:\n",
    "                    dill.dump(d, outfile)\n",
    "        elif not train and pretrain_path is not None:\n",
    "            with open(pretrain_path, 'rb') as f:\n",
    "                d = dill.load(f)\n",
    "\n",
    "            self.value_dictionary = d['value_dictionary']\n",
    "            print(len(self.value_dictionary))\n",
    "        \n",
    "    def make_move(self, game: Game) -> tuple[tuple[int, int], Move]:\n",
    "        current_state = CustomState(get_coordinates(game.get_board()))\n",
    "\n",
    "        if current_state in self.value_dictionary:\n",
    "            list_action = sorted(self.value_dictionary[current_state], key=self.value_dictionary[current_state].get)\n",
    "\n",
    "            action = list_action[0].split('-')\n",
    "            from_pos = tuple((int(c) for c in action[0] if c.isdigit()))\n",
    "\n",
    "            if action[1] == 'Move.LEFT':\n",
    "                move = Move.LEFT\n",
    "            elif action[1] == 'Move.RIGHT':\n",
    "                move = Move.RIGHT\n",
    "            elif action[1] == 'Move.TOP':\n",
    "                move = Move.TOP\n",
    "            else:\n",
    "                move = Move.BOTTOM\n",
    "        else:\n",
    "            ## Random play\n",
    "            from_pos = (random.randint(0, 4), random.randint(0, 4))\n",
    "            move = random.choice([Move.TOP, Move.BOTTOM, Move.LEFT, Move.RIGHT])\n",
    "            \n",
    "        return from_pos, move\n",
    "    \n",
    "g = Game()\n",
    "\n",
    "player1 = RLPlayer(learning_rate=0.1, discount_factor=0.7, pretrain_path='train_results/rl.pik', save_model_path='train_results/rl.pik', max_steps=2000, train=True)\n",
    "player2 = RandomPlayer()"
   ]
  },
  {
   "cell_type": "code",
   "execution_count": null,
   "metadata": {},
   "outputs": [],
   "source": [
    "import dill\n",
    "from strategies.rl import CustomState, print_dictionary\n",
    "\n",
    "with open('train_results/rl.pik', 'rb') as f:\n",
    "    my_dict = dill.load(f)\n",
    "    \n",
    "print(len(my_dict['value_dictionary']))"
   ]
  },
  {
   "cell_type": "code",
   "execution_count": null,
   "metadata": {},
   "outputs": [],
   "source": [
    "g = Game()\n",
    "g.print()\n",
    "winner = g.play(player1, player2)\n",
    "g.print()\n",
    "print(f\"Winner: Player {winner}\")"
   ]
  },
  {
   "cell_type": "code",
   "execution_count": null,
   "metadata": {},
   "outputs": [],
   "source": [
    "from tqdm.auto import tqdm\n",
    "win = 0\n",
    "lose = 0\n",
    "draw = 0\n",
    "for _ in tqdm(range(100)):\n",
    "    g = Game()\n",
    "    winner = g.play(player1, player2)\n",
    "    if winner == 0:\n",
    "        win += 1\n",
    "    elif winner == 1:\n",
    "        lose += 1\n",
    "    else:\n",
    "        draw += 1\n",
    "\n",
    "print(win)\n",
    "print(lose)\n",
    "print(draw)"
   ]
  },
  {
   "cell_type": "markdown",
   "metadata": {},
   "source": [
    "### GESTIRE RL PLAYER COME PLAYER 2"
   ]
  }
 ],
 "metadata": {
  "kernelspec": {
   "display_name": "Python 3 (ipykernel)",
   "language": "python",
   "name": "python3"
  },
  "language_info": {
   "codemirror_mode": {
    "name": "ipython",
    "version": 3
   },
   "file_extension": ".py",
   "mimetype": "text/x-python",
   "name": "python",
   "nbconvert_exporter": "python",
   "pygments_lexer": "ipython3",
   "version": "3.11.6"
  }
 },
 "nbformat": 4,
 "nbformat_minor": 2
}

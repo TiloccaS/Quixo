{
 "cells": [
  {
   "cell_type": "code",
   "execution_count": 4,
   "metadata": {},
   "outputs": [
    {
     "name": "stderr",
     "output_type": "stream",
     "text": [
      "  0%|          | 0/50000 [00:00<?, ?it/s]"
     ]
    },
    {
     "name": "stdout",
     "output_type": "stream",
     "text": [
      "state(x=[], o=[]):\n",
      "  (0, 1) Move.TOP: 0.0\n",
      "state(x=[], o=[(0, 0)]):\n",
      "  (0, 1) Move.TOP: 0.0\n",
      "state(x=[], o=[]) (0, 1) Move.TOP\n",
      "state(x=[], o=[(0, 0)]):\n",
      "  (0, 1) Move.TOP: 0.0\n",
      "  (0, 2) Move.RIGHT: 0.0\n",
      "state(x=[(0, 2)], o=[(4, 0)]):\n",
      "  (0, 1) Move.TOP: 0.0\n",
      "state(x=[(0, 2)], o=[(4, 0)]):\n",
      "  (0, 2) Move.RIGHT: 0.0\n",
      "state(x=[], o=[(0, 0)]) (0, 2) Move.RIGHT\n",
      "state(x=[(0, 2)], o=[(4, 0)]):\n",
      "  (0, 1) Move.TOP: 0.0\n",
      "  (0, 2) Move.RIGHT: 0.0\n",
      "state(x=[(0, 2)], o=[(4, 0), (4, 1)]):\n",
      "  (0, 1) Move.TOP: 0.0\n",
      "state(x=[(0, 2)], o=[(4, 0), (4, 1)]):\n",
      "  (0, 2) Move.RIGHT: 0.0\n",
      "state(x=[(0, 2)], o=[(4, 0)]):\n",
      "  (0, 1) Move.TOP: 0.0\n",
      "state(x=[(0, 2)], o=[(4, 0), (4, 1)]):\n",
      "  (0, 1) Move.TOP: 0.0\n",
      "state(x=[(0, 2)], o=[(4, 0)]) (0, 1) Move.TOP\n",
      "state(x=[(0, 2)], o=[(4, 0), (4, 1)]):\n",
      "  (0, 1) Move.TOP: 0.0\n",
      "  (0, 2) Move.RIGHT: 0.0\n",
      "state(x=[(0, 0), (2, 4)], o=[(0, 1), (1, 0)]):\n",
      "  (0, 1) Move.TOP: 0.0\n",
      "state(x=[(0, 0), (2, 4)], o=[(0, 1), (1, 0)]):\n",
      "  (0, 2) Move.RIGHT: 0.0\n",
      "state(x=[(0, 2)], o=[(4, 0), (4, 1)]):\n",
      "  (0, 1) Move.TOP: 0.0\n",
      "  (3, 0) Move.LEFT: 0.0\n",
      "state(x=[(0, 0), (2, 4)], o=[(0, 1), (1, 0)]):\n",
      "  (0, 1) Move.TOP: 0.0\n",
      "state(x=[(0, 0), (2, 4)], o=[(0, 1), (1, 0)]):\n",
      "  (3, 0) Move.LEFT: 0.0\n",
      "state(x=[(0, 2)], o=[(4, 0), (4, 1)]) (3, 0) Move.LEFT\n",
      "non trova la board\n"
     ]
    },
    {
     "name": "stderr",
     "output_type": "stream",
     "text": [
      "\n"
     ]
    },
    {
     "ename": "KeyError",
     "evalue": "<strategies.rl.Boards_numpy object at 0x000002C7550D6650>",
     "output_type": "error",
     "traceback": [
      "\u001b[1;31m---------------------------------------------------------------------------\u001b[0m",
      "\u001b[1;31mKeyError\u001b[0m                                  Traceback (most recent call last)",
      "Cell \u001b[1;32mIn[4], line 24\u001b[0m\n\u001b[0;32m     22\u001b[0m         \u001b[38;5;28;01mreturn\u001b[39;00m from_pos, move\n\u001b[0;32m     23\u001b[0m g \u001b[38;5;241m=\u001b[39m Game()\n\u001b[1;32m---> 24\u001b[0m \u001b[43mg\u001b[49m\u001b[38;5;241;43m.\u001b[39;49m\u001b[43mtrain_rl\u001b[49m\u001b[43m(\u001b[49m\u001b[38;5;241;43m50000\u001b[39;49m\u001b[43m,\u001b[49m\u001b[38;5;241;43m0.5\u001b[39;49m\u001b[43m,\u001b[49m\u001b[38;5;241;43m0.5\u001b[39;49m\u001b[43m,\u001b[49m\u001b[43mRandomPlayer\u001b[49m\u001b[43m(\u001b[49m\u001b[43m)\u001b[49m\u001b[43m)\u001b[49m\n",
      "File \u001b[1;32md:\\Salvatore\\Reboot\\Universita\\VANNO\\Computational Inteligence\\computational-intelligence-2023-24\\computational-intelligence-2023-24\\quixo\\game.py:155\u001b[0m, in \u001b[0;36mGame.train_rl\u001b[1;34m(self, steps, learning_rate, discount_factor, player)\u001b[0m\n\u001b[0;32m    153\u001b[0m             \u001b[38;5;28;01melif\u001b[39;00m action \u001b[38;5;129;01mnot\u001b[39;00m \u001b[38;5;129;01min\u001b[39;00m value_dictionary[current_board]:\n\u001b[0;32m    154\u001b[0m                 \u001b[38;5;28mprint\u001b[39m(\u001b[38;5;124m\"\u001b[39m\u001b[38;5;124mnon trova l\u001b[39m\u001b[38;5;124m'\u001b[39m\u001b[38;5;124mazione\u001b[39m\u001b[38;5;124m\"\u001b[39m)\n\u001b[1;32m--> 155\u001b[0m             value_dictionary[current_board][action] \u001b[38;5;241m=\u001b[39m ((\u001b[38;5;241m1\u001b[39m \u001b[38;5;241m-\u001b[39m learning_rate) \u001b[38;5;241m*\u001b[39m \u001b[43mvalue_dictionary\u001b[49m\u001b[43m[\u001b[49m\u001b[43mcurrent_board\u001b[49m\u001b[43m]\u001b[49m[action] \u001b[38;5;241m+\u001b[39m \n\u001b[0;32m    156\u001b[0m                     learning_rate \u001b[38;5;241m*\u001b[39m (reward \u001b[38;5;241m+\u001b[39m discount_factor \u001b[38;5;241m*\u001b[39m \u001b[38;5;28mmin\u001b[39m(value_dictionary[next_board]\u001b[38;5;241m.\u001b[39mvalues())))\n\u001b[0;32m    158\u001b[0m         winner\u001b[38;5;241m=\u001b[39m\u001b[38;5;28mself\u001b[39m\u001b[38;5;241m.\u001b[39mcheck_winner()\n\u001b[0;32m    159\u001b[0m stampa_dizionario(value_dictionary)\n",
      "\u001b[1;31mKeyError\u001b[0m: <strategies.rl.Boards_numpy object at 0x000002C7550D6650>"
     ]
    }
   ],
   "source": [
    "import random\n",
    "from game import Game, Move, Player\n",
    "\n",
    "\n",
    "class RandomPlayer(Player):\n",
    "    def __init__(self) -> None:\n",
    "        super().__init__()\n",
    "\n",
    "    def make_move(self, game: 'Game') -> tuple[tuple[int, int], Move]:\n",
    "        from_pos = (random.randint(0, 4), random.randint(0, 4))\n",
    "        move = random.choice([Move.TOP, Move.BOTTOM, Move.LEFT, Move.RIGHT])\n",
    "        return from_pos, move\n",
    "\n",
    "\n",
    "class MyPlayer(Player):\n",
    "    def __init__(self) -> None:\n",
    "        super().__init__()\n",
    "\n",
    "    def make_move(self, game: 'Game') -> tuple[tuple[int, int], Move]:\n",
    "        from_pos = (random.randint(0, 4), random.randint(0, 4))\n",
    "        move = random.choice([Move.TOP, Move.BOTTOM, Move.LEFT, Move.RIGHT])\n",
    "        return from_pos, move\n",
    "g = Game()\n",
    "g.train_rl(50000,0.5,0.5,RandomPlayer())"
   ]
  }
 ],
 "metadata": {
  "kernelspec": {
   "display_name": "my_env",
   "language": "python",
   "name": "python3"
  },
  "language_info": {
   "codemirror_mode": {
    "name": "ipython",
    "version": 3
   },
   "file_extension": ".py",
   "mimetype": "text/x-python",
   "name": "python",
   "nbconvert_exporter": "python",
   "pygments_lexer": "ipython3",
   "version": "3.11.7"
  }
 },
 "nbformat": 4,
 "nbformat_minor": 2
}

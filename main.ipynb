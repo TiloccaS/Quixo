{
 "cells": [
  {
   "cell_type": "code",
   "execution_count": 2,
   "metadata": {},
   "outputs": [
    {
     "data": {
      "application/vnd.jupyter.widget-view+json": {
       "model_id": "3f99e50789014de687eb3db2e7078e08",
       "version_major": 2,
       "version_minor": 0
      },
      "text/plain": [
       "  0%|          | 0/100000 [00:00<?, ?it/s]"
      ]
     },
     "metadata": {},
     "output_type": "display_data"
    },
    {
     "ename": "TypeError",
     "evalue": "'numpy.ndarray' object is not callable",
     "output_type": "error",
     "traceback": [
      "\u001b[0;31m---------------------------------------------------------------------------\u001b[0m",
      "\u001b[0;31mTypeError\u001b[0m                                 Traceback (most recent call last)",
      "Cell \u001b[0;32mIn[2], line 46\u001b[0m\n\u001b[1;32m     42\u001b[0m         \u001b[38;5;28;01mreturn\u001b[39;00m from_pos, move\n\u001b[1;32m     44\u001b[0m g \u001b[38;5;241m=\u001b[39m Game()\n\u001b[0;32m---> 46\u001b[0m player1 \u001b[38;5;241m=\u001b[39m \u001b[43mRLPlayer\u001b[49m\u001b[43m(\u001b[49m\u001b[38;5;241;43m100000\u001b[39;49m\u001b[43m,\u001b[49m\u001b[43m \u001b[49m\u001b[38;5;241;43m0.1\u001b[39;49m\u001b[43m,\u001b[49m\u001b[43m \u001b[49m\u001b[38;5;241;43m0.7\u001b[39;49m\u001b[43m)\u001b[49m\n\u001b[1;32m     47\u001b[0m player2 \u001b[38;5;241m=\u001b[39m RandomPlayer()\n",
      "Cell \u001b[0;32mIn[2], line 29\u001b[0m, in \u001b[0;36mRLPlayer.__init__\u001b[0;34m(self, steps, learning_rate, discount_factor)\u001b[0m\n\u001b[1;32m     27\u001b[0m \u001b[38;5;28msuper\u001b[39m()\u001b[38;5;241m.\u001b[39m\u001b[38;5;21m__init__\u001b[39m()\n\u001b[1;32m     28\u001b[0m ql \u001b[38;5;241m=\u001b[39m Q_learing(steps, learning_rate, discount_factor)\n\u001b[0;32m---> 29\u001b[0m \u001b[38;5;28mself\u001b[39m\u001b[38;5;241m.\u001b[39mvalue_dictonary \u001b[38;5;241m=\u001b[39m \u001b[43mql\u001b[49m\u001b[38;5;241;43m.\u001b[39;49m\u001b[43mtrain\u001b[49m\u001b[43m(\u001b[49m\u001b[43m)\u001b[49m\n",
      "File \u001b[0;32m~/PoliTO/ci2023/Quixo/strategies/rl.py:141\u001b[0m, in \u001b[0;36mtrain\u001b[0;34m(self)\u001b[0m\n\u001b[1;32m    138\u001b[0m next_state \u001b[38;5;241m=\u001b[39m CustomState()\n\u001b[1;32m    140\u001b[0m \u001b[38;5;28;01mwhile\u001b[39;00m winner \u001b[38;5;241m<\u001b[39m \u001b[38;5;241m0\u001b[39m:\n\u001b[0;32m--> 141\u001b[0m     game\u001b[38;5;241m.\u001b[39mcurrent_player_idx \u001b[38;5;241m+\u001b[39m\u001b[38;5;241m=\u001b[39m \u001b[38;5;241m1\u001b[39m\n\u001b[1;32m    142\u001b[0m     game\u001b[38;5;241m.\u001b[39mcurrent_player_idx \u001b[38;5;241m%\u001b[39m\u001b[38;5;241m=\u001b[39m \u001b[38;5;28mlen\u001b[39m(players)\n\u001b[1;32m    143\u001b[0m     current_state\u001b[38;5;241m.\u001b[39mstate \u001b[38;5;241m=\u001b[39m get_coordinates(game\u001b[38;5;241m.\u001b[39mget_board())\n",
      "File \u001b[0;32m~/PoliTO/ci2023/Quixo/strategies/rl.py:88\u001b[0m, in \u001b[0;36mget_equivalent\u001b[0;34m(self)\u001b[0m\n\u001b[1;32m     80\u001b[0m \u001b[38;5;28;01mdef\u001b[39;00m \u001b[38;5;21mget_equivalent\u001b[39m(\u001b[38;5;28mself\u001b[39m):    \u001b[38;5;66;03m##### Controllare\u001b[39;00m\n\u001b[1;32m     81\u001b[0m     elenco_ordinato\u001b[38;5;241m=\u001b[39m[]\n\u001b[1;32m     82\u001b[0m \u001b[38;5;250m    \u001b[39m\u001b[38;5;124;03m\"\"\"\u001b[39;00m\n\u001b[1;32m     83\u001b[0m \u001b[38;5;124;03m    funziona cosi:\u001b[39;00m\n\u001b[1;32m     84\u001b[0m \u001b[38;5;124;03m    -li passo le coordinate \u001b[39;00m\n\u001b[1;32m     85\u001b[0m \u001b[38;5;124;03m    -trova i valori per la matrice i per le coordinate che li ho passato\u001b[39;00m\n\u001b[1;32m     86\u001b[0m \u001b[38;5;124;03m    -da i valori ottenuti dalla matrice i ottengo le coordinate sulla board principale\u001b[39;00m\n\u001b[1;32m     87\u001b[0m \u001b[38;5;124;03m    -questa è una possibile configurazione\u001b[39;00m\n\u001b[0;32m---> 88\u001b[0m \u001b[38;5;124;03m    \"\"\"\u001b[39;00m\n\u001b[1;32m     89\u001b[0m     \u001b[38;5;28;01mfor\u001b[39;00m board \u001b[38;5;129;01min\u001b[39;00m Board\u001b[38;5;241m.\u001b[39mALL:\n\u001b[1;32m     90\u001b[0m         tmp_x \u001b[38;5;241m=\u001b[39m get_board_positions_from_coordinates(board, \u001b[38;5;28mself\u001b[39m\u001b[38;5;241m.\u001b[39mstate\u001b[38;5;241m.\u001b[39mx)\n",
      "File \u001b[0;32m~/PoliTO/ci2023/Quixo/strategies/rl.py:33\u001b[0m, in \u001b[0;36mget_coordinates_from_board_positions\u001b[0;34m(board, positions)\u001b[0m\n\u001b[1;32m     31\u001b[0m \u001b[38;5;28;01mfor\u001b[39;00m i \u001b[38;5;129;01min\u001b[39;00m \u001b[38;5;28mrange\u001b[39m(rows):\n\u001b[1;32m     32\u001b[0m     \u001b[38;5;28;01mfor\u001b[39;00m j \u001b[38;5;129;01min\u001b[39;00m \u001b[38;5;28mrange\u001b[39m(cols):\n\u001b[0;32m---> 33\u001b[0m         \u001b[38;5;28;01mif\u001b[39;00m \u001b[43mboard\u001b[49m\u001b[43m(\u001b[49m\u001b[43mi\u001b[49m\u001b[43m,\u001b[49m\u001b[43m \u001b[49m\u001b[43mj\u001b[49m\u001b[43m)\u001b[49m \u001b[38;5;129;01min\u001b[39;00m positions:\n\u001b[1;32m     34\u001b[0m             coordinates\u001b[38;5;241m.\u001b[39mappend((j, i))\n\u001b[1;32m     35\u001b[0m             cnt \u001b[38;5;241m+\u001b[39m\u001b[38;5;241m=\u001b[39m \u001b[38;5;241m1\u001b[39m\n",
      "\u001b[0;31mTypeError\u001b[0m: 'numpy.ndarray' object is not callable"
     ]
    }
   ],
   "source": [
    "import random\n",
    "from game import Game, Move, Player\n",
    "from strategies.rl import Q_learing, CustomState, get_coordinates\n",
    "\n",
    "\n",
    "class RandomPlayer(Player):\n",
    "    def __init__(self) -> None:\n",
    "        super().__init__()\n",
    "\n",
    "    def make_move(self, game: 'Game') -> tuple[tuple[int, int], Move]:\n",
    "        from_pos = (random.randint(0, 4), random.randint(0, 4))\n",
    "        move = random.choice([Move.TOP, Move.BOTTOM, Move.LEFT, Move.RIGHT])\n",
    "        return from_pos, move\n",
    "\n",
    "\n",
    "class MyPlayer(Player):\n",
    "    def __init__(self) -> None:\n",
    "        super().__init__()\n",
    "\n",
    "    def make_move(self, game: 'Game') -> tuple[tuple[int, int], Move]:\n",
    "        from_pos = (random.randint(0, 4), random.randint(0, 4))\n",
    "        move = random.choice([Move.TOP, Move.BOTTOM, Move.LEFT, Move.RIGHT])\n",
    "        return from_pos, move\n",
    "    \n",
    "class RLPlayer(Player):\n",
    "    def __init__(self, steps, learning_rate, discount_factor) -> None:\n",
    "        super().__init__()\n",
    "        ql = Q_learing(steps, learning_rate, discount_factor)\n",
    "        self.value_dictonary = ql.train()\n",
    "    \n",
    "    def make_move(self, game: Game) -> tuple[tuple[int, int], Move]:\n",
    "        current_state = CustomState(get_coordinates(game.get_board()))\n",
    "        list_action = sorted(self.value_dictionary[current_state], key=self.value_dictionary[current_state].get)\n",
    "        '''\n",
    "        for action in list_action:\n",
    "            if action not in (current_state.x.union(current_state.o)):\n",
    "                current_state.x.add(action)\n",
    "                break\n",
    "        '''\n",
    "\n",
    "        from_pos, move = list_action[0]\n",
    "        return from_pos, move\n",
    "    \n",
    "g = Game()\n",
    "\n",
    "player1 = RLPlayer(100000, 0.1, 0.7)\n",
    "player2 = RandomPlayer()\n",
    "\n"
   ]
  },
  {
   "cell_type": "code",
   "execution_count": null,
   "metadata": {},
   "outputs": [],
   "source": [
    "g.print()\n",
    "winner = g.play(player1, player2)\n",
    "g.print()\n",
    "print(f\"Winner: Player {winner}\")"
   ]
  }
 ],
 "metadata": {
  "kernelspec": {
   "display_name": "Python 3 (ipykernel)",
   "language": "python",
   "name": "python3"
  },
  "language_info": {
   "codemirror_mode": {
    "name": "ipython",
    "version": 3
   },
   "file_extension": ".py",
   "mimetype": "text/x-python",
   "name": "python",
   "nbconvert_exporter": "python",
   "pygments_lexer": "ipython3",
   "version": "3.11.6"
  }
 },
 "nbformat": 4,
 "nbformat_minor": 2
}

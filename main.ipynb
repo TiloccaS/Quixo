{
 "cells": [
  {
   "cell_type": "code",
   "execution_count": null,
   "metadata": {},
   "outputs": [],
   "source": [
    "import random\n",
    "import dill\n",
    "from game import Game, Move, Player\n",
    "from strategies.rl import Q_learing, CustomState,  get_coordinates\n",
    "\n",
    "class RandomPlayer(Player):\n",
    "    def __init__(self) -> None:\n",
    "        super().__init__()\n",
    "\n",
    "    def make_move(self, game: 'Game') -> tuple[tuple[int, int], Move]:\n",
    "        from_pos = (random.randint(0, 4), random.randint(0, 4))\n",
    "        move = random.choice([Move.TOP, Move.BOTTOM, Move.LEFT, Move.RIGHT])\n",
    "        return from_pos, move\n",
    "\n",
    "\n",
    "class MyPlayer(Player):\n",
    "    def __init__(self) -> None:\n",
    "        super().__init__()\n",
    "\n",
    "    def make_move(self, game: 'Game') -> tuple[tuple[int, int], Move]:\n",
    "        from_pos = (random.randint(0, 4), random.randint(0, 4))\n",
    "        move = random.choice([Move.TOP, Move.BOTTOM, Move.LEFT, Move.RIGHT])\n",
    "        return from_pos, move\n",
    "    \n",
    "class RLPlayer(Player):\n",
    "    def __init__(self, learning_rate, discount_factor, pretrain_path=None, save_model_path=None, max_steps=None) -> None:\n",
    "        super().__init__()\n",
    "        ql = Q_learing(learning_rate, discount_factor, pretrain_path=pretrain_path, max_steps=max_steps)\n",
    "        steps, self.value_dictionary = ql.train()\n",
    "\n",
    "        if save_model_path is not None:\n",
    "            d = {'steps': steps, 'value_dictionary': self.value_dictionary}\n",
    "\n",
    "            with open(save_model_path, 'wb') as outfile:\n",
    "                dill.dump(d, outfile)\n",
    "        \n",
    "    def make_move(self, game: Game) -> tuple[tuple[int, int], Move]:\n",
    "        current_state = CustomState(get_coordinates(game.get_board()))\n",
    "        list_action = sorted(self.value_dictionary[current_state], key=self.value_dictionary[current_state].get)\n",
    "        '''\n",
    "        for action in list_action:\n",
    "            if action not in (current_state.x.union(current_state.o)):\n",
    "                current_state.x.add(action)\n",
    "                break\n",
    "        '''\n",
    "\n",
    "        from_pos, move = list_action[0]\n",
    "        print(from_pos, move)\n",
    "        return from_pos, move\n",
    "    \n",
    "g = Game()\n",
    "\n",
    "player1 = RLPlayer(0.1, 0.7, pretrain_path='train_results/rl.pik', save_model_path='train_results/rl.pik', max_steps=50)\n",
    "player2 = RandomPlayer()\n",
    "\n"
   ]
  },
  {
   "cell_type": "code",
   "execution_count": null,
   "metadata": {},
   "outputs": [],
   "source": [
    "import dill\n",
    "from strategies.rl import CustomState, print_dictionary\n",
    "\n",
    "with open('train_results/rl.pik', 'rb') as f:\n",
    "    my_dict = dill.load(f)\n",
    "\n",
    "print(my_dict)\n",
    "print(my_dict['steps'])\n",
    "print_dictionary(my_dict['value_dictionary'])\n",
    "print(len(my_dict['value_dictionary']))"
   ]
  },
  {
   "cell_type": "code",
   "execution_count": null,
   "metadata": {},
   "outputs": [],
   "source": [
    "g.print()\n",
    "winner = g.play(player1, player2)\n",
    "g.print()\n",
    "print(f\"Winner: Player {winner}\")"
   ]
  }
 ],
 "metadata": {
  "kernelspec": {
   "display_name": "Python 3 (ipykernel)",
   "language": "python",
   "name": "python3"
  },
  "language_info": {
   "codemirror_mode": {
    "name": "ipython",
    "version": 3
   },
   "file_extension": ".py",
   "mimetype": "text/x-python",
   "name": "python",
   "nbconvert_exporter": "python",
   "pygments_lexer": "ipython3",
   "version": "3.11.6"
  }
 },
 "nbformat": 4,
 "nbformat_minor": 2
}

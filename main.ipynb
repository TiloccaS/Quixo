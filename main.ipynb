{
 "cells": [
  {
   "cell_type": "code",
   "execution_count": null,
   "metadata": {},
   "outputs": [],
   "source": [
    "import random\n",
    "from game import Game, Move, Player\n",
    "from strategies.rl import Q_learing, CustomState,  get_coordinates\n",
    "\n",
    "class RandomPlayer(Player):\n",
    "    def __init__(self) -> None:\n",
    "        super().__init__()\n",
    "\n",
    "    def make_move(self, game: 'Game') -> tuple[tuple[int, int], Move]:\n",
    "        from_pos = (random.randint(0, 4), random.randint(0, 4))\n",
    "        move = random.choice([Move.TOP, Move.BOTTOM, Move.LEFT, Move.RIGHT])\n",
    "        return from_pos, move\n",
    "\n",
    "\n",
    "class MyPlayer(Player):\n",
    "    def __init__(self) -> None:\n",
    "        super().__init__()\n",
    "\n",
    "    def make_move(self, game: 'Game') -> tuple[tuple[int, int], Move]:\n",
    "        from_pos = (random.randint(0, 4), random.randint(0, 4))\n",
    "        move = random.choice([Move.TOP, Move.BOTTOM, Move.LEFT, Move.RIGHT])\n",
    "        return from_pos, move\n",
    "    \n",
    "class RLPlayer(Player):\n",
    "    def __init__(self, steps, learning_rate, discount_factor) -> None:\n",
    "        super().__init__()\n",
    "        ql = Q_learing(steps, learning_rate, discount_factor)\n",
    "        self.value_dictionary = ql.train()\n",
    "        \n",
    "    def make_move(self, game: Game) -> tuple[tuple[int, int], Move]:\n",
    "        current_state = CustomState(get_coordinates(game.get_board()))\n",
    "        list_action = sorted(self.value_dictionary[current_state], key=self.value_dictionary[current_state].get)\n",
    "        '''\n",
    "        for action in list_action:\n",
    "            if action not in (current_state.x.union(current_state.o)):\n",
    "                current_state.x.add(action)\n",
    "                break\n",
    "        '''\n",
    "        print(list_action[0])\n",
    "        from_pos_0,from_pos_1, move = list_action[0].split()\n",
    "        from_pos=from_pos_0.split+from_pos_1\n",
    "        print(from_pos)\n",
    "        from_pos=tuple(map(int, from_pos.split(',')))\n",
    "     \n",
    "        return from_pos, move\n",
    "    \n",
    "g = Game()\n",
    "\n",
    "player1 = RLPlayer(100, 0.1, 0.7)\n",
    "player2 = RandomPlayer()\n",
    "\n"
   ]
  },
  {
   "cell_type": "code",
   "execution_count": null,
   "metadata": {},
   "outputs": [],
   "source": [
    "g.print()\n",
    "winner = g.play(player1, player2)\n",
    "g.print()\n",
    "print(f\"Winner: Player {winner}\")"
   ]
  },
  {
   "cell_type": "code",
   "execution_count": null,
   "metadata": {},
   "outputs": [],
   "source": [
    "from strategies.utils import CustomGame\n",
    "from strategies.utils import MinMaxPlayer,RandomPlayer\n",
    "import random\n",
    "from game import Game, Move, Player\n",
    "from strategies.rl import Q_learing, CustomState,  get_coordinates\n",
    "cnt=0\n",
    "player1=MinMaxPlayer()\n",
    "player2=RandomPlayer()\n",
    "for i in range(100):\n",
    "    game=CustomGame()\n",
    "    winner=game.play(player1,player2)\n",
    "    if winner==0:\n",
    "        cnt+=1\n",
    "    \n",
    "    print(cnt)"
   ]
  }
 ],
 "metadata": {
  "kernelspec": {
   "display_name": "Python 3 (ipykernel)",
   "language": "python",
   "name": "python3"
  }
 },
 "nbformat": 4,
 "nbformat_minor": 2
}
